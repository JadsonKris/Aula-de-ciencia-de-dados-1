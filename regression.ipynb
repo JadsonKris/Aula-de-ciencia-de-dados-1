{
 "cells": [
  {
   "cell_type": "code",
   "execution_count": 1,
   "metadata": {},
   "outputs": [],
   "source": [
    "import numpy as np\n",
    "import pandas as pd \n",
    "import matplotlib.pyplot as plt\n",
    "import seaborn as sns\n",
    "from sklearn.metrics import mean_squared_error\n",
    "from sklearn.metrics import mean_absolute_error\n",
    "from sklearn.linear_model import LinearRegression\n",
    "%matplotlib inline"
   ]
  },
  {
   "cell_type": "code",
   "execution_count": 2,
   "metadata": {},
   "outputs": [
    {
     "name": "stdout",
     "output_type": "stream",
     "text": [
      "(145460, 23)\n"
     ]
    },
    {
     "data": {
      "text/html": [
       "<div>\n",
       "<style scoped>\n",
       "    .dataframe tbody tr th:only-of-type {\n",
       "        vertical-align: middle;\n",
       "    }\n",
       "\n",
       "    .dataframe tbody tr th {\n",
       "        vertical-align: top;\n",
       "    }\n",
       "\n",
       "    .dataframe thead th {\n",
       "        text-align: right;\n",
       "    }\n",
       "</style>\n",
       "<table border=\"1\" class=\"dataframe\">\n",
       "  <thead>\n",
       "    <tr style=\"text-align: right;\">\n",
       "      <th></th>\n",
       "      <th>Date</th>\n",
       "      <th>Location</th>\n",
       "      <th>MinTemp</th>\n",
       "      <th>MaxTemp</th>\n",
       "      <th>Rainfall</th>\n",
       "      <th>Evaporation</th>\n",
       "      <th>Sunshine</th>\n",
       "      <th>WindGustDir</th>\n",
       "      <th>WindGustSpeed</th>\n",
       "      <th>WindDir9am</th>\n",
       "      <th>...</th>\n",
       "      <th>Humidity9am</th>\n",
       "      <th>Humidity3pm</th>\n",
       "      <th>Pressure9am</th>\n",
       "      <th>Pressure3pm</th>\n",
       "      <th>Cloud9am</th>\n",
       "      <th>Cloud3pm</th>\n",
       "      <th>Temp9am</th>\n",
       "      <th>Temp3pm</th>\n",
       "      <th>RainToday</th>\n",
       "      <th>RainTomorrow</th>\n",
       "    </tr>\n",
       "  </thead>\n",
       "  <tbody>\n",
       "    <tr>\n",
       "      <th>0</th>\n",
       "      <td>2008-12-01</td>\n",
       "      <td>Albury</td>\n",
       "      <td>13.4</td>\n",
       "      <td>22.9</td>\n",
       "      <td>0.6</td>\n",
       "      <td>NaN</td>\n",
       "      <td>NaN</td>\n",
       "      <td>W</td>\n",
       "      <td>44.0</td>\n",
       "      <td>W</td>\n",
       "      <td>...</td>\n",
       "      <td>71.0</td>\n",
       "      <td>22.0</td>\n",
       "      <td>1007.7</td>\n",
       "      <td>1007.1</td>\n",
       "      <td>8.0</td>\n",
       "      <td>NaN</td>\n",
       "      <td>16.9</td>\n",
       "      <td>21.8</td>\n",
       "      <td>No</td>\n",
       "      <td>No</td>\n",
       "    </tr>\n",
       "    <tr>\n",
       "      <th>1</th>\n",
       "      <td>2008-12-02</td>\n",
       "      <td>Albury</td>\n",
       "      <td>7.4</td>\n",
       "      <td>25.1</td>\n",
       "      <td>0.0</td>\n",
       "      <td>NaN</td>\n",
       "      <td>NaN</td>\n",
       "      <td>WNW</td>\n",
       "      <td>44.0</td>\n",
       "      <td>NNW</td>\n",
       "      <td>...</td>\n",
       "      <td>44.0</td>\n",
       "      <td>25.0</td>\n",
       "      <td>1010.6</td>\n",
       "      <td>1007.8</td>\n",
       "      <td>NaN</td>\n",
       "      <td>NaN</td>\n",
       "      <td>17.2</td>\n",
       "      <td>24.3</td>\n",
       "      <td>No</td>\n",
       "      <td>No</td>\n",
       "    </tr>\n",
       "    <tr>\n",
       "      <th>2</th>\n",
       "      <td>2008-12-03</td>\n",
       "      <td>Albury</td>\n",
       "      <td>12.9</td>\n",
       "      <td>25.7</td>\n",
       "      <td>0.0</td>\n",
       "      <td>NaN</td>\n",
       "      <td>NaN</td>\n",
       "      <td>WSW</td>\n",
       "      <td>46.0</td>\n",
       "      <td>W</td>\n",
       "      <td>...</td>\n",
       "      <td>38.0</td>\n",
       "      <td>30.0</td>\n",
       "      <td>1007.6</td>\n",
       "      <td>1008.7</td>\n",
       "      <td>NaN</td>\n",
       "      <td>2.0</td>\n",
       "      <td>21.0</td>\n",
       "      <td>23.2</td>\n",
       "      <td>No</td>\n",
       "      <td>No</td>\n",
       "    </tr>\n",
       "    <tr>\n",
       "      <th>3</th>\n",
       "      <td>2008-12-04</td>\n",
       "      <td>Albury</td>\n",
       "      <td>9.2</td>\n",
       "      <td>28.0</td>\n",
       "      <td>0.0</td>\n",
       "      <td>NaN</td>\n",
       "      <td>NaN</td>\n",
       "      <td>NE</td>\n",
       "      <td>24.0</td>\n",
       "      <td>SE</td>\n",
       "      <td>...</td>\n",
       "      <td>45.0</td>\n",
       "      <td>16.0</td>\n",
       "      <td>1017.6</td>\n",
       "      <td>1012.8</td>\n",
       "      <td>NaN</td>\n",
       "      <td>NaN</td>\n",
       "      <td>18.1</td>\n",
       "      <td>26.5</td>\n",
       "      <td>No</td>\n",
       "      <td>No</td>\n",
       "    </tr>\n",
       "    <tr>\n",
       "      <th>4</th>\n",
       "      <td>2008-12-05</td>\n",
       "      <td>Albury</td>\n",
       "      <td>17.5</td>\n",
       "      <td>32.3</td>\n",
       "      <td>1.0</td>\n",
       "      <td>NaN</td>\n",
       "      <td>NaN</td>\n",
       "      <td>W</td>\n",
       "      <td>41.0</td>\n",
       "      <td>ENE</td>\n",
       "      <td>...</td>\n",
       "      <td>82.0</td>\n",
       "      <td>33.0</td>\n",
       "      <td>1010.8</td>\n",
       "      <td>1006.0</td>\n",
       "      <td>7.0</td>\n",
       "      <td>8.0</td>\n",
       "      <td>17.8</td>\n",
       "      <td>29.7</td>\n",
       "      <td>No</td>\n",
       "      <td>No</td>\n",
       "    </tr>\n",
       "  </tbody>\n",
       "</table>\n",
       "<p>5 rows × 23 columns</p>\n",
       "</div>"
      ],
      "text/plain": [
       "         Date Location  MinTemp  MaxTemp  Rainfall  Evaporation  Sunshine  \\\n",
       "0  2008-12-01   Albury     13.4     22.9       0.6          NaN       NaN   \n",
       "1  2008-12-02   Albury      7.4     25.1       0.0          NaN       NaN   \n",
       "2  2008-12-03   Albury     12.9     25.7       0.0          NaN       NaN   \n",
       "3  2008-12-04   Albury      9.2     28.0       0.0          NaN       NaN   \n",
       "4  2008-12-05   Albury     17.5     32.3       1.0          NaN       NaN   \n",
       "\n",
       "  WindGustDir  WindGustSpeed WindDir9am  ... Humidity9am  Humidity3pm  \\\n",
       "0           W           44.0          W  ...        71.0         22.0   \n",
       "1         WNW           44.0        NNW  ...        44.0         25.0   \n",
       "2         WSW           46.0          W  ...        38.0         30.0   \n",
       "3          NE           24.0         SE  ...        45.0         16.0   \n",
       "4           W           41.0        ENE  ...        82.0         33.0   \n",
       "\n",
       "   Pressure9am  Pressure3pm  Cloud9am  Cloud3pm  Temp9am  Temp3pm  RainToday  \\\n",
       "0       1007.7       1007.1       8.0       NaN     16.9     21.8         No   \n",
       "1       1010.6       1007.8       NaN       NaN     17.2     24.3         No   \n",
       "2       1007.6       1008.7       NaN       2.0     21.0     23.2         No   \n",
       "3       1017.6       1012.8       NaN       NaN     18.1     26.5         No   \n",
       "4       1010.8       1006.0       7.0       8.0     17.8     29.7         No   \n",
       "\n",
       "   RainTomorrow  \n",
       "0            No  \n",
       "1            No  \n",
       "2            No  \n",
       "3            No  \n",
       "4            No  \n",
       "\n",
       "[5 rows x 23 columns]"
      ]
     },
     "execution_count": 2,
     "metadata": {},
     "output_type": "execute_result"
    }
   ],
   "source": [
    "#carregando os dados\n",
    "df=pd.read_csv(\"data/weatherAUS.csv\")\n",
    "#Exibindo a quantidade de linhas e de colunas que o dataset tem (nesse caso é 145460 linhas e 23 colunas)\n",
    "print(df.shape)\n",
    "#olhando as 5 primeiras linhas do dataset\n",
    "df.head()"
   ]
  },
  {
   "cell_type": "code",
   "execution_count": 3,
   "metadata": {},
   "outputs": [
    {
     "data": {
      "text/html": [
       "<div>\n",
       "<style scoped>\n",
       "    .dataframe tbody tr th:only-of-type {\n",
       "        vertical-align: middle;\n",
       "    }\n",
       "\n",
       "    .dataframe tbody tr th {\n",
       "        vertical-align: top;\n",
       "    }\n",
       "\n",
       "    .dataframe thead th {\n",
       "        text-align: right;\n",
       "    }\n",
       "</style>\n",
       "<table border=\"1\" class=\"dataframe\">\n",
       "  <thead>\n",
       "    <tr style=\"text-align: right;\">\n",
       "      <th></th>\n",
       "      <th>MinTemp</th>\n",
       "      <th>MaxTemp</th>\n",
       "      <th>Rainfall</th>\n",
       "      <th>Evaporation</th>\n",
       "      <th>Sunshine</th>\n",
       "      <th>WindGustSpeed</th>\n",
       "      <th>WindSpeed9am</th>\n",
       "      <th>WindSpeed3pm</th>\n",
       "      <th>Humidity9am</th>\n",
       "      <th>Humidity3pm</th>\n",
       "      <th>Pressure9am</th>\n",
       "      <th>Pressure3pm</th>\n",
       "      <th>Cloud9am</th>\n",
       "      <th>Cloud3pm</th>\n",
       "      <th>Temp9am</th>\n",
       "      <th>Temp3pm</th>\n",
       "    </tr>\n",
       "  </thead>\n",
       "  <tbody>\n",
       "    <tr>\n",
       "      <th>count</th>\n",
       "      <td>143975.00</td>\n",
       "      <td>144199.00</td>\n",
       "      <td>142199.00</td>\n",
       "      <td>82670.00</td>\n",
       "      <td>75625.00</td>\n",
       "      <td>135197.00</td>\n",
       "      <td>143693.00</td>\n",
       "      <td>142398.00</td>\n",
       "      <td>142806.00</td>\n",
       "      <td>140953.00</td>\n",
       "      <td>130395.00</td>\n",
       "      <td>130432.00</td>\n",
       "      <td>89572.00</td>\n",
       "      <td>86102.00</td>\n",
       "      <td>143693.00</td>\n",
       "      <td>141851.00</td>\n",
       "    </tr>\n",
       "    <tr>\n",
       "      <th>mean</th>\n",
       "      <td>12.19</td>\n",
       "      <td>23.22</td>\n",
       "      <td>2.36</td>\n",
       "      <td>5.47</td>\n",
       "      <td>7.61</td>\n",
       "      <td>40.04</td>\n",
       "      <td>14.04</td>\n",
       "      <td>18.66</td>\n",
       "      <td>68.88</td>\n",
       "      <td>51.54</td>\n",
       "      <td>1017.65</td>\n",
       "      <td>1015.26</td>\n",
       "      <td>4.45</td>\n",
       "      <td>4.51</td>\n",
       "      <td>16.99</td>\n",
       "      <td>21.68</td>\n",
       "    </tr>\n",
       "    <tr>\n",
       "      <th>std</th>\n",
       "      <td>6.40</td>\n",
       "      <td>7.12</td>\n",
       "      <td>8.48</td>\n",
       "      <td>4.19</td>\n",
       "      <td>3.79</td>\n",
       "      <td>13.61</td>\n",
       "      <td>8.92</td>\n",
       "      <td>8.81</td>\n",
       "      <td>19.03</td>\n",
       "      <td>20.80</td>\n",
       "      <td>7.11</td>\n",
       "      <td>7.04</td>\n",
       "      <td>2.89</td>\n",
       "      <td>2.72</td>\n",
       "      <td>6.49</td>\n",
       "      <td>6.94</td>\n",
       "    </tr>\n",
       "    <tr>\n",
       "      <th>min</th>\n",
       "      <td>-8.50</td>\n",
       "      <td>-4.80</td>\n",
       "      <td>0.00</td>\n",
       "      <td>0.00</td>\n",
       "      <td>0.00</td>\n",
       "      <td>6.00</td>\n",
       "      <td>0.00</td>\n",
       "      <td>0.00</td>\n",
       "      <td>0.00</td>\n",
       "      <td>0.00</td>\n",
       "      <td>980.50</td>\n",
       "      <td>977.10</td>\n",
       "      <td>0.00</td>\n",
       "      <td>0.00</td>\n",
       "      <td>-7.20</td>\n",
       "      <td>-5.40</td>\n",
       "    </tr>\n",
       "    <tr>\n",
       "      <th>25%</th>\n",
       "      <td>7.60</td>\n",
       "      <td>17.90</td>\n",
       "      <td>0.00</td>\n",
       "      <td>2.60</td>\n",
       "      <td>4.80</td>\n",
       "      <td>31.00</td>\n",
       "      <td>7.00</td>\n",
       "      <td>13.00</td>\n",
       "      <td>57.00</td>\n",
       "      <td>37.00</td>\n",
       "      <td>1012.90</td>\n",
       "      <td>1010.40</td>\n",
       "      <td>1.00</td>\n",
       "      <td>2.00</td>\n",
       "      <td>12.30</td>\n",
       "      <td>16.60</td>\n",
       "    </tr>\n",
       "    <tr>\n",
       "      <th>50%</th>\n",
       "      <td>12.00</td>\n",
       "      <td>22.60</td>\n",
       "      <td>0.00</td>\n",
       "      <td>4.80</td>\n",
       "      <td>8.40</td>\n",
       "      <td>39.00</td>\n",
       "      <td>13.00</td>\n",
       "      <td>19.00</td>\n",
       "      <td>70.00</td>\n",
       "      <td>52.00</td>\n",
       "      <td>1017.60</td>\n",
       "      <td>1015.20</td>\n",
       "      <td>5.00</td>\n",
       "      <td>5.00</td>\n",
       "      <td>16.70</td>\n",
       "      <td>21.10</td>\n",
       "    </tr>\n",
       "    <tr>\n",
       "      <th>75%</th>\n",
       "      <td>16.90</td>\n",
       "      <td>28.20</td>\n",
       "      <td>0.80</td>\n",
       "      <td>7.40</td>\n",
       "      <td>10.60</td>\n",
       "      <td>48.00</td>\n",
       "      <td>19.00</td>\n",
       "      <td>24.00</td>\n",
       "      <td>83.00</td>\n",
       "      <td>66.00</td>\n",
       "      <td>1022.40</td>\n",
       "      <td>1020.00</td>\n",
       "      <td>7.00</td>\n",
       "      <td>7.00</td>\n",
       "      <td>21.60</td>\n",
       "      <td>26.40</td>\n",
       "    </tr>\n",
       "    <tr>\n",
       "      <th>max</th>\n",
       "      <td>33.90</td>\n",
       "      <td>48.10</td>\n",
       "      <td>371.00</td>\n",
       "      <td>145.00</td>\n",
       "      <td>14.50</td>\n",
       "      <td>135.00</td>\n",
       "      <td>130.00</td>\n",
       "      <td>87.00</td>\n",
       "      <td>100.00</td>\n",
       "      <td>100.00</td>\n",
       "      <td>1041.00</td>\n",
       "      <td>1039.60</td>\n",
       "      <td>9.00</td>\n",
       "      <td>9.00</td>\n",
       "      <td>40.20</td>\n",
       "      <td>46.70</td>\n",
       "    </tr>\n",
       "  </tbody>\n",
       "</table>\n",
       "</div>"
      ],
      "text/plain": [
       "         MinTemp    MaxTemp   Rainfall  Evaporation  Sunshine  WindGustSpeed  \\\n",
       "count  143975.00  144199.00  142199.00     82670.00  75625.00      135197.00   \n",
       "mean       12.19      23.22       2.36         5.47      7.61          40.04   \n",
       "std         6.40       7.12       8.48         4.19      3.79          13.61   \n",
       "min        -8.50      -4.80       0.00         0.00      0.00           6.00   \n",
       "25%         7.60      17.90       0.00         2.60      4.80          31.00   \n",
       "50%        12.00      22.60       0.00         4.80      8.40          39.00   \n",
       "75%        16.90      28.20       0.80         7.40     10.60          48.00   \n",
       "max        33.90      48.10     371.00       145.00     14.50         135.00   \n",
       "\n",
       "       WindSpeed9am  WindSpeed3pm  Humidity9am  Humidity3pm  Pressure9am  \\\n",
       "count     143693.00     142398.00    142806.00    140953.00    130395.00   \n",
       "mean          14.04         18.66        68.88        51.54      1017.65   \n",
       "std            8.92          8.81        19.03        20.80         7.11   \n",
       "min            0.00          0.00         0.00         0.00       980.50   \n",
       "25%            7.00         13.00        57.00        37.00      1012.90   \n",
       "50%           13.00         19.00        70.00        52.00      1017.60   \n",
       "75%           19.00         24.00        83.00        66.00      1022.40   \n",
       "max          130.00         87.00       100.00       100.00      1041.00   \n",
       "\n",
       "       Pressure3pm  Cloud9am  Cloud3pm    Temp9am    Temp3pm  \n",
       "count    130432.00  89572.00  86102.00  143693.00  141851.00  \n",
       "mean       1015.26      4.45      4.51      16.99      21.68  \n",
       "std           7.04      2.89      2.72       6.49       6.94  \n",
       "min         977.10      0.00      0.00      -7.20      -5.40  \n",
       "25%        1010.40      1.00      2.00      12.30      16.60  \n",
       "50%        1015.20      5.00      5.00      16.70      21.10  \n",
       "75%        1020.00      7.00      7.00      21.60      26.40  \n",
       "max        1039.60      9.00      9.00      40.20      46.70  "
      ]
     },
     "execution_count": 3,
     "metadata": {},
     "output_type": "execute_result"
    }
   ],
   "source": [
    "#Usando a função describe que nos da uma visão estatistica geral do dataset e usando o round(2) para as saidas ficarem com 2 casas decimais\n",
    "df.describe().round(2)"
   ]
  },
  {
   "cell_type": "code",
   "execution_count": 4,
   "metadata": {},
   "outputs": [
    {
     "data": {
      "text/plain": [
       "Date              object\n",
       "Location          object\n",
       "MinTemp          float64\n",
       "MaxTemp          float64\n",
       "Rainfall         float64\n",
       "Evaporation      float64\n",
       "Sunshine         float64\n",
       "WindGustDir       object\n",
       "WindGustSpeed    float64\n",
       "WindDir9am        object\n",
       "WindDir3pm        object\n",
       "WindSpeed9am     float64\n",
       "WindSpeed3pm     float64\n",
       "Humidity9am      float64\n",
       "Humidity3pm      float64\n",
       "Pressure9am      float64\n",
       "Pressure3pm      float64\n",
       "Cloud9am         float64\n",
       "Cloud3pm         float64\n",
       "Temp9am          float64\n",
       "Temp3pm          float64\n",
       "RainToday         object\n",
       "RainTomorrow      object\n",
       "dtype: object"
      ]
     },
     "execution_count": 4,
     "metadata": {},
     "output_type": "execute_result"
    }
   ],
   "source": [
    "#Olhando o tipo de dados que cada coluna guarda\n",
    "df.dtypes"
   ]
  },
  {
   "cell_type": "code",
   "execution_count": 5,
   "metadata": {},
   "outputs": [
    {
     "name": "stdout",
     "output_type": "stream",
     "text": [
      "Date                 0\n",
      "Location             0\n",
      "MinTemp           1485\n",
      "MaxTemp           1261\n",
      "Rainfall          3261\n",
      "Evaporation      62790\n",
      "Sunshine         69835\n",
      "WindGustDir      10326\n",
      "WindGustSpeed    10263\n",
      "WindDir9am       10566\n",
      "WindDir3pm        4228\n",
      "WindSpeed9am      1767\n",
      "WindSpeed3pm      3062\n",
      "Humidity9am       2654\n",
      "Humidity3pm       4507\n",
      "Pressure9am      15065\n",
      "Pressure3pm      15028\n",
      "Cloud9am         55888\n",
      "Cloud3pm         59358\n",
      "Temp9am           1767\n",
      "Temp3pm           3609\n",
      "RainToday         3261\n",
      "RainTomorrow      3267\n",
      "dtype: int64\n"
     ]
    }
   ],
   "source": [
    "#Contando a quantidade de valores não preenchidos em cada coluna\n",
    "print(df.isna().sum())"
   ]
  },
  {
   "cell_type": "code",
   "execution_count": 6,
   "metadata": {},
   "outputs": [
    {
     "data": {
      "text/plain": [
       "Evaporation      1.000000\n",
       "MaxTemp          0.587932\n",
       "Temp3pm          0.572893\n",
       "Temp9am          0.545115\n",
       "MinTemp          0.466993\n",
       "Sunshine         0.365602\n",
       "WindGustSpeed    0.203021\n",
       "WindSpeed9am     0.193084\n",
       "WindSpeed3pm     0.129400\n",
       "Rainfall        -0.064351\n",
       "Cloud3pm        -0.182618\n",
       "Cloud9am        -0.183793\n",
       "Pressure9am     -0.270362\n",
       "Pressure3pm     -0.293581\n",
       "Humidity3pm     -0.390243\n",
       "Humidity9am     -0.504092\n",
       "Name: Evaporation, dtype: float64"
      ]
     },
     "execution_count": 6,
     "metadata": {},
     "output_type": "execute_result"
    }
   ],
   "source": [
    "#Olhando a correlação da coluna \"Evaporation\" em relação a outras colunas\n",
    "corr_matrix=df.corr()\n",
    "corr_matrix['Evaporation'].sort_values(ascending=False)"
   ]
  },
  {
   "cell_type": "code",
   "execution_count": 7,
   "metadata": {},
   "outputs": [
    {
     "data": {
      "text/plain": [
       "MaxTemp          1.000000\n",
       "Temp3pm          0.984503\n",
       "Temp9am          0.887210\n",
       "MinTemp          0.736555\n",
       "Evaporation      0.587932\n",
       "Sunshine         0.470156\n",
       "WindGustSpeed    0.067615\n",
       "WindSpeed3pm     0.050300\n",
       "WindSpeed9am     0.014450\n",
       "Rainfall        -0.074992\n",
       "Cloud3pm        -0.277921\n",
       "Cloud9am        -0.289370\n",
       "Pressure9am     -0.332061\n",
       "Pressure3pm     -0.427167\n",
       "Humidity9am     -0.504110\n",
       "Humidity3pm     -0.508855\n",
       "Name: MaxTemp, dtype: float64"
      ]
     },
     "execution_count": 7,
     "metadata": {},
     "output_type": "execute_result"
    }
   ],
   "source": [
    "#Olhando a correlação da coluna \"MaxTemp\" em relação a outras colunas\n",
    "corr_matrix=df.corr()\n",
    "corr_matrix['MaxTemp'].sort_values(ascending=False)"
   ]
  },
  {
   "cell_type": "code",
   "execution_count": 8,
   "metadata": {},
   "outputs": [
    {
     "data": {
      "image/png": "[encoded data removed]",
      "text/plain": [
       "<Figure size 720x360 with 2 Axes>"
      ]
     },
     "metadata": {
      "needs_background": "light"
     },
     "output_type": "display_data"
    }
   ],
   "source": [
    "#Fazendo um grafico para analisar se chover hoje tem impacto em chover amanhã\n",
    "sns.catplot(x=\"RainToday\", y=\"Temp3pm\", col='RainTomorrow', data=df, kind = \"bar\");"
   ]
  },
  {
   "cell_type": "code",
   "execution_count": 9,
   "metadata": {},
   "outputs": [
    {
     "name": "stdout",
     "output_type": "stream",
     "text": [
      "Date                 0\n",
      "Location             0\n",
      "MaxTemp              0\n",
      "Temp9am              0\n",
      "Evaporation          0\n",
      "Humidity9am          0\n",
      "MinTemp             68\n",
      "Pressure9am        334\n",
      "WindSpeed9am       364\n",
      "Pressure3pm        367\n",
      "RainToday          390\n",
      "Rainfall           390\n",
      "RainTomorrow       733\n",
      "WindSpeed3pm       788\n",
      "Temp3pm           1125\n",
      "WindDir3pm        1142\n",
      "Humidity3pm       1251\n",
      "WindDir9am        3411\n",
      "WindGustSpeed     4838\n",
      "WindGustDir       4865\n",
      "Cloud9am          9561\n",
      "Sunshine         11071\n",
      "Cloud3pm         12177\n",
      "dtype: int64\n"
     ]
    }
   ],
   "source": [
    "#Retirando as linhas que tem 'MaxTemp', 'Humidity9am' ou 'Evaporation' com valores não preenchidos\n",
    "df_tmp = df.dropna(subset=['MaxTemp', 'Humidity9am', 'Evaporation'])\n",
    "print(df_tmp.isna().sum().sort_values(ascending=True))"
   ]
  },
  {
   "cell_type": "code",
   "execution_count": 10,
   "metadata": {},
   "outputs": [],
   "source": [
    "#Separando as variaveis preditoras( \"MaxTemp\" e \"Humidity9am\" ) como X\n",
    "#E a varaivel de resposta (\"Evaporation\") como targer\n",
    "x = df_tmp[[\"MaxTemp\", \"Humidity9am\"]].to_numpy()\n",
    "target = df_tmp.Evaporation.to_numpy()"
   ]
  },
  {
   "cell_type": "code",
   "execution_count": 11,
   "metadata": {},
   "outputs": [],
   "source": [
    "#Cria a regressão linear\n",
    "lr = LinearRegression()"
   ]
  },
  {
   "cell_type": "code",
   "execution_count": 12,
   "metadata": {},
   "outputs": [],
   "source": [
    "#Treina a regressão linear\n",
    "lr.fit(x, target)\n",
    "#Faz a predição com a regressão linear gerada\n",
    "y = lr.predict(x)"
   ]
  },
  {
   "cell_type": "code",
   "execution_count": 13,
   "metadata": {},
   "outputs": [
    {
     "data": {
      "text/plain": [
       "<matplotlib.legend.Legend at 0x1df6eb6baf0>"
      ]
     },
     "execution_count": 13,
     "metadata": {},
     "output_type": "execute_result"
    },
    {
     "data": {
      "image/png": "[encoded data removed]",
      "text/plain": [
       "<Figure size 432x288 with 1 Axes>"
      ]
     },
     "metadata": {
      "needs_background": "light"
     },
     "output_type": "display_data"
    }
   ],
   "source": [
    "#Exibe o grafico dos resultados\n",
    "plt.hist(y, histtype='step', label='prediction')\n",
    "plt.hist(target, histtype='step', label='target')\n",
    "plt.legend(loc='upper left')"
   ]
  },
  {
   "cell_type": "code",
   "execution_count": 14,
   "metadata": {},
   "outputs": [
    {
     "name": "stdout",
     "output_type": "stream",
     "text": [
      "R^2 do modelo linear eh 10.339\n"
     ]
    }
   ],
   "source": [
    "#Avalia o erro do modelo\n",
    "r2=  mean_squared_error(y, target)\n",
    "print('R^2 do modelo linear eh {:.3f}'.format(r2))"
   ]
  },
  {
   "cell_type": "code",
   "execution_count": 15,
   "metadata": {},
   "outputs": [
    {
     "name": "stdout",
     "output_type": "stream",
     "text": [
      "Wo=[ 0.26645297 -0.06223077] y W1=3.265326298568664\n"
     ]
    }
   ],
   "source": [
    "#Exibe os pesos do modelo\n",
    "print(\"Wo={} y W1={}\".format(lr.coef_,lr.intercept_))"
   ]
  },
  {
   "cell_type": "code",
   "execution_count": 16,
   "metadata": {},
   "outputs": [
    {
     "name": "stdout",
     "output_type": "stream",
     "text": [
      "Date                 0\n",
      "Location             0\n",
      "MaxTemp              0\n",
      "Temp3pm              0\n",
      "MinTemp            391\n",
      "Temp9am            595\n",
      "WindSpeed3pm       804\n",
      "Humidity3pm        893\n",
      "WindSpeed9am      1200\n",
      "Humidity9am       1456\n",
      "WindDir3pm        1950\n",
      "RainTomorrow      2264\n",
      "RainToday         2361\n",
      "Rainfall          2361\n",
      "WindGustSpeed     7975\n",
      "WindGustDir       8037\n",
      "WindDir9am        9563\n",
      "Pressure3pm      12805\n",
      "Pressure9am      12985\n",
      "Cloud9am         54398\n",
      "Cloud3pm         55680\n",
      "Evaporation      60726\n",
      "Sunshine         66891\n",
      "dtype: int64\n"
     ]
    }
   ],
   "source": [
    "#Retirando as linhas que tem 'MaxTemp' ou 'Temp3pm' com valores não preenchidos\n",
    "df_tmp2 = df.dropna(subset=['MaxTemp', 'Temp3pm'])\n",
    "print(df_tmp2.isna().sum().sort_values(ascending=True))"
   ]
  },
  {
   "cell_type": "code",
   "execution_count": 17,
   "metadata": {},
   "outputs": [],
   "source": [
    "#Separando a variavel preditora (temp3pm) na variavel x2\n",
    "x2 = df_tmp2.Temp3pm.to_numpy()\n",
    "#mudando a forma do array (quando se tem apenas 1 variavel preditora precisa fazer esse reshape para treinar o modelo)\n",
    "x2 = x2.reshape([-1,1])\n",
    "#Separando a variavel resposta (MaxTemp) na variavel t2\n",
    "t2 = df_tmp2.MaxTemp.to_numpy()"
   ]
  },
  {
   "cell_type": "code",
   "execution_count": 18,
   "metadata": {},
   "outputs": [],
   "source": [
    "#Criando um segundo modelo de regressão linear\n",
    "lr2 = LinearRegression()"
   ]
  },
  {
   "cell_type": "code",
   "execution_count": 19,
   "metadata": {},
   "outputs": [],
   "source": [
    "#Treinando o segundo modelo\n",
    "lr2.fit(x2, t2)\n",
    "#Fazendo as predições com o novo modelo\n",
    "y2 = lr2.predict(x2)"
   ]
  },
  {
   "cell_type": "code",
   "execution_count": 20,
   "metadata": {},
   "outputs": [
    {
     "data": {
      "text/plain": [
       "<matplotlib.legend.Legend at 0x1df6ebd8670>"
      ]
     },
     "execution_count": 20,
     "metadata": {},
     "output_type": "execute_result"
    },
    {
     "data": {
      "image/png": "[encoded data removed]",
      "text/plain": [
       "<Figure size 432x288 with 1 Axes>"
      ]
     },
     "metadata": {
      "needs_background": "light"
     },
     "output_type": "display_data"
    }
   ],
   "source": [
    "#Criando os graficos\n",
    "plt.hist(y2, histtype='step', label='prediction')\n",
    "plt.hist(t2, histtype='step', label='target')\n",
    "plt.legend(loc='upper left')"
   ]
  },
  {
   "cell_type": "code",
   "execution_count": 21,
   "metadata": {},
   "outputs": [
    {
     "name": "stdout",
     "output_type": "stream",
     "text": [
      "R^2 do modelo linear eh 1.540\n"
     ]
    }
   ],
   "source": [
    "#Avaliando o erro do modelo\n",
    "r2=  mean_squared_error(y2, t2)\n",
    "print('R^2 do modelo linear eh {:.3f}'.format(r2))"
   ]
  },
  {
   "cell_type": "code",
   "execution_count": null,
   "metadata": {},
   "outputs": [],
   "source": []
  }
 ],
 "metadata": {
  "kernelspec": {
   "display_name": "Python 3",
   "language": "python",
   "name": "python3"
  },
  "language_info": {
   "codemirror_mode": {
    "name": "ipython",
    "version": 3
   },
   "file_extension": ".py",
   "mimetype": "text/x-python",
   "name": "python",
   "nbconvert_exporter": "python",
   "pygments_lexer": "ipython3",
   "version": "3.8.5"
  }
 },
 "nbformat": 4,
 "nbformat_minor": 4
}
